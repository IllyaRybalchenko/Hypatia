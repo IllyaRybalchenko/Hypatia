{
  "nbformat": 4,
  "nbformat_minor": 0,
  "metadata": {
    "colab": {
      "provenance": [],
      "authorship_tag": "ABX9TyMkcqOdUIdkOCoBfl1A0PSv",
      "include_colab_link": true
    },
    "kernelspec": {
      "name": "python3",
      "display_name": "Python 3"
    },
    "language_info": {
      "name": "python"
    }
  },
  "cells": [
    {
      "cell_type": "markdown",
      "metadata": {
        "id": "view-in-github",
        "colab_type": "text"
      },
      "source": [
        "<a href=\"https://colab.research.google.com/github/IllyaRybalchenko/Hypatia/blob/main/HAhomework12_06_23.ipynb\" target=\"_parent\"><img src=\"https://colab.research.google.com/assets/colab-badge.svg\" alt=\"Open In Colab\"/></a>"
      ]
    },
    {
      "cell_type": "code",
      "execution_count": 5,
      "metadata": {
        "id": "VNAgFI1c1lYJ"
      },
      "outputs": [],
      "source": [
        "class BankAcc:\n",
        "  longitude=0\n",
        "  latitude=0\n",
        "\n",
        "  def __init__(self, AccountNumber, Balance, OwnersName):\n",
        "   self.AccountNumber = AccountNumber\n",
        "   self.Balance = Balance\n",
        "   self.OwnersName = OwnersName\n",
        "\n",
        "\n",
        "BankApp=BankAcc(\"866335\", \"150$\", \"Felix\")"
      ]
    },
    {
      "cell_type": "code",
      "source": [
        "print(\"The balance on your account is\", BankAcc.Balance)"
      ],
      "metadata": {
        "colab": {
          "base_uri": "https://localhost:8080/",
          "height": 165
        },
        "id": "MajwPcdn4DYk",
        "outputId": "7d62b542-c7e0-4e95-f83a-e6c54e989fcc"
      },
      "execution_count": 6,
      "outputs": [
        {
          "output_type": "error",
          "ename": "AttributeError",
          "evalue": "ignored",
          "traceback": [
            "\u001b[0;31m---------------------------------------------------------------------------\u001b[0m",
            "\u001b[0;31mAttributeError\u001b[0m                            Traceback (most recent call last)",
            "\u001b[0;32m<ipython-input-6-2b224a320046>\u001b[0m in \u001b[0;36m<cell line: 1>\u001b[0;34m()\u001b[0m\n\u001b[0;32m----> 1\u001b[0;31m \u001b[0mprint\u001b[0m\u001b[0;34m(\u001b[0m\u001b[0;34m\"The balance on your account is\"\u001b[0m\u001b[0;34m,\u001b[0m \u001b[0mBankAcc\u001b[0m\u001b[0;34m.\u001b[0m\u001b[0mBalance\u001b[0m\u001b[0;34m)\u001b[0m\u001b[0;34m\u001b[0m\u001b[0;34m\u001b[0m\u001b[0m\n\u001b[0m",
            "\u001b[0;31mAttributeError\u001b[0m: type object 'BankAcc' has no attribute 'Balance'"
          ]
        }
      ]
    }
  ]
}