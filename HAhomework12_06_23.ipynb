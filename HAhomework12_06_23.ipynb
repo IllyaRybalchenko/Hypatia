{
  "nbformat": 4,
  "nbformat_minor": 0,
  "metadata": {
    "colab": {
      "provenance": [],
      "authorship_tag": "ABX9TyOgAhJIYhwPoLsx0WrysYyn",
      "include_colab_link": true
    },
    "kernelspec": {
      "name": "python3",
      "display_name": "Python 3"
    },
    "language_info": {
      "name": "python"
    }
  },
  "cells": [
    {
      "cell_type": "markdown",
      "metadata": {
        "id": "view-in-github",
        "colab_type": "text"
      },
      "source": [
        "<a href=\"https://colab.research.google.com/github/IllyaRybalchenko/Hypatia/blob/main/HAhomework12_06_23.ipynb\" target=\"_parent\"><img src=\"https://colab.research.google.com/assets/colab-badge.svg\" alt=\"Open In Colab\"/></a>"
      ]
    },
    {
      "cell_type": "code",
      "execution_count": 5,
      "metadata": {
        "id": "VNAgFI1c1lYJ"
      },
      "outputs": [],
      "source": [
        "class BankAcc:\n",
        "  longitude=0\n",
        "  latitude=0\n",
        "\n",
        "  def __init__(self, AccountNumber, Balance, OwnersName):\n",
        "   self.AccountNumber = AccountNumber\n",
        "   self.Balance = Balance\n",
        "   self.OwnersName = OwnersName\n",
        "\n",
        "\n",
        "BankApp=BankAcc(\"866335\", \"150$\", \"Felix\")"
      ]
    },
    {
      "cell_type": "code",
      "source": [
        "print(\"The balance on your account is\", BankApp.Balance)"
      ],
      "metadata": {
        "colab": {
          "base_uri": "https://localhost:8080/"
        },
        "id": "MajwPcdn4DYk",
        "outputId": "33642cd4-c687-4e54-e926-bc11c0765cc4"
      },
      "execution_count": 7,
      "outputs": [
        {
          "output_type": "stream",
          "name": "stdout",
          "text": [
            "The balance on your account is 150$\n"
          ]
        }
      ]
    },
    {
      "cell_type": "code",
      "source": [
        "print(\"The name on your card says\", BankApp.OwnersName)"
      ],
      "metadata": {
        "colab": {
          "base_uri": "https://localhost:8080/"
        },
        "id": "2hfdeHBOuHqU",
        "outputId": "d4365623-404a-464e-8948-dc10a16cac76"
      },
      "execution_count": 8,
      "outputs": [
        {
          "output_type": "stream",
          "name": "stdout",
          "text": [
            "The name on your card says Felix\n"
          ]
        }
      ]
    },
    {
      "cell_type": "code",
      "source": [
        "print(\"i think my account code is\",BankApp.AccountNumber)"
      ],
      "metadata": {
        "colab": {
          "base_uri": "https://localhost:8080/"
        },
        "id": "wpZf3s1EuP_i",
        "outputId": "e8838351-b315-468e-fa03-a5fcd0d9198e"
      },
      "execution_count": 11,
      "outputs": [
        {
          "output_type": "stream",
          "name": "stdout",
          "text": [
            "i think my account code is 866335\n"
          ]
        }
      ]
    }
  ]
}