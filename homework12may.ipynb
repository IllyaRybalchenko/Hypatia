{
  "nbformat": 4,
  "nbformat_minor": 0,
  "metadata": {
    "colab": {
      "provenance": [],
      "authorship_tag": "ABX9TyPrMsx/mzKXzmBNeyDFAsZY",
      "include_colab_link": true
    },
    "kernelspec": {
      "name": "python3",
      "display_name": "Python 3"
    },
    "language_info": {
      "name": "python"
    }
  },
  "cells": [
    {
      "cell_type": "markdown",
      "metadata": {
        "id": "view-in-github",
        "colab_type": "text"
      },
      "source": [
        "<a href=\"https://colab.research.google.com/github/IllyaRybalchenko/Hypatia/blob/main/homework12may.ipynb\" target=\"_parent\"><img src=\"https://colab.research.google.com/assets/colab-badge.svg\" alt=\"Open In Colab\"/></a>"
      ]
    },
    {
      "cell_type": "code",
      "execution_count": 13,
      "metadata": {
        "id": "O7li_tnQUS45"
      },
      "outputs": [],
      "source": [
        "#1\n",
        "\n",
        "\"headphones\".upper()\n",
        "\"MAGNET\".lower()\n",
        "\n",
        "def makeCapital(InputWord):\n",
        "  print(InputWord)\n",
        "  return InputWord.upper()\n",
        "\n",
        "  makeCapital(\"headphones\")"
      ]
    },
    {
      "cell_type": "code",
      "source": [
        "#2\n",
        "\n",
        "txt = \"I really enjoy taking Walker Row's course!\"\n",
        "\n",
        "\"I really enjoy taking Walker Row's course!\"[10:20]\n"
      ],
      "metadata": {
        "colab": {
          "base_uri": "https://localhost:8080/",
          "height": 35
        },
        "id": "XPcfzcKpXGdU",
        "outputId": "96e21b3c-7e3c-4055-aad1-b4ca2f6c11ac"
      },
      "execution_count": 12,
      "outputs": [
        {
          "output_type": "execute_result",
          "data": {
            "text/plain": [
              "'njoy takin'"
            ],
            "application/vnd.google.colaboratory.intrinsic+json": {
              "type": "string"
            }
          },
          "metadata": {},
          "execution_count": 12
        }
      ]
    }
  ]
}