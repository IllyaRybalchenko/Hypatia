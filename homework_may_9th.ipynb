{
  "nbformat": 4,
  "nbformat_minor": 0,
  "metadata": {
    "colab": {
      "provenance": [],
      "authorship_tag": "ABX9TyOo1/6fZ1e87rZ6ZOhhFGPE",
      "include_colab_link": true
    },
    "kernelspec": {
      "name": "python3",
      "display_name": "Python 3"
    },
    "language_info": {
      "name": "python"
    }
  },
  "cells": [
    {
      "cell_type": "markdown",
      "metadata": {
        "id": "view-in-github",
        "colab_type": "text"
      },
      "source": [
        "<a href=\"https://colab.research.google.com/github/IllyaRybalchenko/Hypatia/blob/main/homework_may_9th.ipynb\" target=\"_parent\"><img src=\"https://colab.research.google.com/assets/colab-badge.svg\" alt=\"Open In Colab\"/></a>"
      ]
    },
    {
      "cell_type": "code",
      "execution_count": 8,
      "metadata": {
        "colab": {
          "base_uri": "https://localhost:8080/"
        },
        "id": "aj2ylx1TsEw1",
        "outputId": "f7804433-9724-4f38-9cd8-87a32fde6c10"
      },
      "outputs": [
        {
          "output_type": "stream",
          "name": "stdout",
          "text": [
            "{'pencil': 'green', 'rubber': 'red', 'sharpener': True, 'atom bomb': False}\n",
            "{'vegetable': 'cucumber', 'fruit': 'pear', 'meat': 'beef', 'groats': 'rice', 'dairy': 'cheese'}\n",
            "{'livingroom': 'sofa', 'bedroom': 'bed', 'kitchen': 'stove', 'cars': False}\n",
            "{'book': 'paper', 'bottle': 'water', 'telephone': 'apps', 'lunchbox': 'food'}\n"
          ]
        }
      ],
      "source": [
        "PencilCase = {\n",
        "    \"pencil\": \"green\",\n",
        "    \"rubber\": \"red\",\n",
        "    \"sharpener\": True,\n",
        "    \"atom bomb\": False \n",
        "\n",
        "}\n",
        "print(PencilCase)\n",
        "\n",
        "Food = {\n",
        "    \"vegetable\": \"cucumber\",\n",
        "    \"fruit\": \"pear\",\n",
        "    \"meat\": \"beef\",\n",
        "    \"groats\": \"rice\",\n",
        "    \"dairy\": \"cheese\"\n",
        "\n",
        "}\n",
        "print(Food)\n",
        "\n",
        "House = {\n",
        "    \n",
        " \"livingroom\": \"sofa\",\n",
        " \"bedroom\": \"bed\",\n",
        " \"kitchen\": \"stove\",\n",
        " \"cars\": False\n",
        "\n",
        "}\n",
        "print(House)\n",
        "\n",
        "Backpack = {\n",
        "    \n",
        "\"book\": \"paper\",\n",
        "\"bottle\": \"water\",\n",
        "\"telephone\": \"apps\",\n",
        "\"lunchbox\": \"food\"\n",
        "\n",
        "}\n",
        "print(Backpack)\n",
        "\n",
        "#THIS TOOK ME SO LONG, OH MY LORD"
      ]
    }
  ]
}