{
  "nbformat": 4,
  "nbformat_minor": 0,
  "metadata": {
    "colab": {
      "provenance": [],
      "authorship_tag": "ABX9TyOIzsG0iVngN5uYK46oEJSI",
      "include_colab_link": true
    },
    "kernelspec": {
      "name": "python3",
      "display_name": "Python 3"
    },
    "language_info": {
      "name": "python"
    }
  },
  "cells": [
    {
      "cell_type": "markdown",
      "metadata": {
        "id": "view-in-github",
        "colab_type": "text"
      },
      "source": [
        "<a href=\"https://colab.research.google.com/github/IllyaRybalchenko/Hypatia/blob/main/homework_28_04_23.ipynb\" target=\"_parent\"><img src=\"https://colab.research.google.com/assets/colab-badge.svg\" alt=\"Open In Colab\"/></a>"
      ]
    },
    {
      "cell_type": "code",
      "execution_count": 27,
      "metadata": {
        "id": "shg1sBjGRwY2"
      },
      "outputs": [],
      "source": [
        "#im going to make 4 characters..\n",
        "l = [\"23\", \"12\", \"14\", \"33\"]"
      ]
    },
    {
      "cell_type": "code",
      "source": [
        "#Im going to print the 3rd character in the array ( 14 )\n",
        "l[2]"
      ],
      "metadata": {
        "id": "1k4_sqduX1e-"
      },
      "execution_count": null,
      "outputs": []
    },
    {
      "cell_type": "code",
      "source": [
        "#Now i will print all characters in the list.\n",
        "l"
      ],
      "metadata": {
        "colab": {
          "base_uri": "https://localhost:8080/"
        },
        "id": "ovQ2ueRdYLta",
        "outputId": "cd0227aa-e4e8-4e2e-af20-500427d485ba"
      },
      "execution_count": 34,
      "outputs": [
        {
          "output_type": "execute_result",
          "data": {
            "text/plain": [
              "['23', '12', '14', '33']"
            ]
          },
          "metadata": {},
          "execution_count": 34
        }
      ]
    }
  ]
}