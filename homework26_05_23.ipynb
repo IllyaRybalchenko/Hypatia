{
  "nbformat": 4,
  "nbformat_minor": 0,
  "metadata": {
    "colab": {
      "provenance": [],
      "authorship_tag": "ABX9TyOHmOIEho4leMMPFS4LjvRW",
      "include_colab_link": true
    },
    "kernelspec": {
      "name": "python3",
      "display_name": "Python 3"
    },
    "language_info": {
      "name": "python"
    }
  },
  "cells": [
    {
      "cell_type": "markdown",
      "metadata": {
        "id": "view-in-github",
        "colab_type": "text"
      },
      "source": [
        "<a href=\"https://colab.research.google.com/github/IllyaRybalchenko/Hypatia/blob/main/homework26_05_23.ipynb\" target=\"_parent\"><img src=\"https://colab.research.google.com/assets/colab-badge.svg\" alt=\"Open In Colab\"/></a>"
      ]
    },
    {
      "cell_type": "code",
      "execution_count": 4,
      "metadata": {
        "colab": {
          "base_uri": "https://localhost:8080/"
        },
        "id": "8_F8tYBZ7NlH",
        "outputId": "d596ced7-e2bf-4b7c-ba73-d59e74f8c21b"
      },
      "outputs": [
        {
          "output_type": "stream",
          "name": "stdout",
          "text": [
            "I like Python courses!\n"
          ]
        }
      ],
      "source": [
        "#1.\n",
        "\n",
        "word1 = \"I like \"\n",
        "word2 = \"Python courses!\"\n",
        "words = word1 + word2\n",
        "print(words)"
      ]
    },
    {
      "cell_type": "code",
      "source": [
        "#2.\n",
        "#This is the count function\n",
        "\n",
        "sentence = \"Game Console\"\n",
        "count = sentence.count('e')   \n",
        "print(count)\n",
        "\n",
        "#Its going to be 2, because i told Python to count how many letter \"e\" is in the sentence.\n",
        "#if anyone doesnt understand, ill make another one.\n",
        "\n",
        "line = \"Hello people!\"\n",
        "count = line.count('z')\n",
        "print(count) # It says zero, because there is no letter \"z\"\n",
        "# i also did a little experiment with it, you can also do it with words, like Hello, or Game and it will say 1"
      ],
      "metadata": {
        "colab": {
          "base_uri": "https://localhost:8080/"
        },
        "id": "6Ku1sKH98pSe",
        "outputId": "bcaa07c2-88cc-4c7e-a0ce-83e5a37fd9bd"
      },
      "execution_count": 8,
      "outputs": [
        {
          "output_type": "stream",
          "name": "stdout",
          "text": [
            "2\n",
            "0\n"
          ]
        }
      ]
    },
    {
      "cell_type": "code",
      "source": [
        "#3.\n",
        "blablabla = \"Hello my name is Illia\"\n",
        "index = blablabla.rfind(\"is\")\n",
        "print(index) # 14 because its the 14th character"
      ],
      "metadata": {
        "colab": {
          "base_uri": "https://localhost:8080/"
        },
        "id": "aPK3JD7R-Alt",
        "outputId": "5bc0e421-203c-4396-dd77-20b7d53178b9"
      },
      "execution_count": 16,
      "outputs": [
        {
          "output_type": "stream",
          "name": "stdout",
          "text": [
            "14\n"
          ]
        }
      ]
    },
    {
      "cell_type": "code",
      "source": [
        "#I didnt really understand the split function.. sorry(\n",
        "    #( Super duper sad emoji )\n"
      ],
      "metadata": {
        "id": "5WYOJQ8j_Pqr"
      },
      "execution_count": 20,
      "outputs": []
    },
    {
      "cell_type": "code",
      "source": [
        "T = \"Thank you \"\n",
        "y = \"for reading!\"\n",
        "homework = T + y\n",
        "print(homework)\n",
        "#i feel so smart"
      ],
      "metadata": {
        "colab": {
          "base_uri": "https://localhost:8080/"
        },
        "id": "MOZqZqkpAsoG",
        "outputId": "52f86a22-5fe1-48c2-8aa5-31ce7c55f58d"
      },
      "execution_count": 19,
      "outputs": [
        {
          "output_type": "stream",
          "name": "stdout",
          "text": [
            "Thank you for reading!\n"
          ]
        }
      ]
    }
  ]
}